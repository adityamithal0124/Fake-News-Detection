{
 "cells": [
  {
   "cell_type": "code",
   "execution_count": 1,
   "metadata": {},
   "outputs": [],
   "source": [
    "import DataExtraction\n",
    "import FeatureExtraction\n",
    "from sklearn.model_selection import ShuffleSplit\n",
    "import numpy as np\n",
    "import pandas as pd\n",
    "import pickle\n",
    "from sklearn.feature_extraction.text import CountVectorizer\n",
    "from sklearn.pipeline import Pipeline\n",
    "from sklearn.naive_bayes import MultinomialNB\n",
    "from sklearn.linear_model import LogisticRegression\n",
    "from sklearn.metrics import confusion_matrix, f1_score, classification_report\n",
    "from sklearn.model_selection import learning_curve\n",
    "import matplotlib.pyplot as plt\n",
    "from sklearn.model_selection import KFold"
   ]
  },
  {
   "cell_type": "code",
   "execution_count": 2,
   "metadata": {},
   "outputs": [
    {
     "data": {
      "text/plain": [
       "0.6101026045777427"
      ]
     },
     "execution_count": 2,
     "metadata": {},
     "output_type": "execute_result"
    }
   ],
   "source": [
    "naive = Pipeline([('NB',FeatureExtraction.count),('nb',MultinomialNB())])\n",
    "naive.fit(DataExtraction.train2['Statement'],DataExtraction.train2['Label'])\n",
    "pred = naive.predict(DataExtraction.test2['Statement'])\n",
    "np.mean(pred == DataExtraction.test2['Label'])"
   ]
  },
  {
   "cell_type": "code",
   "execution_count": 3,
   "metadata": {},
   "outputs": [
    {
     "name": "stderr",
     "output_type": "stream",
     "text": [
      "/anaconda3/lib/python3.7/site-packages/sklearn/linear_model/logistic.py:433: FutureWarning: Default solver will be changed to 'lbfgs' in 0.22. Specify a solver to silence this warning.\n",
      "  FutureWarning)\n"
     ]
    },
    {
     "data": {
      "text/plain": [
       "0.6085240726124704"
      ]
     },
     "execution_count": 3,
     "metadata": {},
     "output_type": "execute_result"
    }
   ],
   "source": [
    "Logistic = Pipeline([('LR',FeatureExtraction.count), ('lr',LogisticRegression())])\n",
    "Logistic.fit(DataExtraction.train2['Statement'],DataExtraction.train2['Label'])\n",
    "predLR = Logistic.predict(DataExtraction.test2['Statement'])\n",
    "np.mean(predLR == DataExtraction.test2['Label'])"
   ]
  },
  {
   "cell_type": "code",
   "execution_count": 4,
   "metadata": {},
   "outputs": [],
   "source": [
    "def matrix(classifier):\n",
    "    k_fold = KFold(n_splits = 5)\n",
    "    final = []\n",
    "    conf = np.array([[0,0],[0,0]])\n",
    "    for tr,te in k_fold.split(DataExtraction.train2):\n",
    "        tr_text = DataExtraction.train2.iloc[tr]['Statement']\n",
    "        tr_y = DataExtraction.train2.iloc[tr]['Label']\n",
    "        \n",
    "        te_text = DataExtraction.train2.iloc[te]['Statement']\n",
    "        te_y = DataExtraction.train2.iloc[te]['Label']\n",
    "        \n",
    "        classifier.fit(tr_text,tr_y)\n",
    "        pred = classifier.predict(te_text)\n",
    "        \n",
    "        conf += confusion_matrix(te_y,pred)\n",
    "        result = f1_score(te_y,pred,pos_label = 'TRUE')\n",
    "        final.append(result)\n",
    "    \n",
    "    return (print('Classified: ',len(DataExtraction.train2)),print('Score: ',sum(final)/len(final)),print('Result Length: ',len(final)),print('Confusion Matrix: '),print(conf))"
   ]
  },
  {
   "cell_type": "code",
   "execution_count": 5,
   "metadata": {},
   "outputs": [
    {
     "name": "stdout",
     "output_type": "stream",
     "text": [
      "Classified:  10240\n",
      "Score:  0.6698307105452173\n",
      "Result Length:  5\n",
      "Confusion Matrix: \n",
      "[[2118 2370]\n",
      " [1662 4090]]\n"
     ]
    },
    {
     "data": {
      "text/plain": [
       "(None, None, None, None, None)"
      ]
     },
     "execution_count": 5,
     "metadata": {},
     "output_type": "execute_result"
    }
   ],
   "source": [
    "matrix(naive)"
   ]
  },
  {
   "cell_type": "code",
   "execution_count": 6,
   "metadata": {},
   "outputs": [
    {
     "name": "stderr",
     "output_type": "stream",
     "text": [
      "/anaconda3/lib/python3.7/site-packages/sklearn/linear_model/logistic.py:433: FutureWarning: Default solver will be changed to 'lbfgs' in 0.22. Specify a solver to silence this warning.\n",
      "  FutureWarning)\n"
     ]
    },
    {
     "name": "stdout",
     "output_type": "stream",
     "text": [
      "Classified:  10240\n",
      "Score:  0.6467410480534144\n",
      "Result Length:  5\n",
      "Confusion Matrix: \n",
      "[[2249 2239]\n",
      " [1933 3819]]\n"
     ]
    },
    {
     "data": {
      "text/plain": [
       "(None, None, None, None, None)"
      ]
     },
     "execution_count": 6,
     "metadata": {},
     "output_type": "execute_result"
    }
   ],
   "source": [
    "matrix(Logistic)"
   ]
  },
  {
   "cell_type": "code",
   "execution_count": 7,
   "metadata": {},
   "outputs": [],
   "source": [
    "model_file = 'final_model.sav'\n",
    "pickle.dump(naive,open(model_file,'wb'))"
   ]
  }
 ],
 "metadata": {
  "kernelspec": {
   "display_name": "Python 3",
   "language": "python",
   "name": "python3"
  },
  "language_info": {
   "codemirror_mode": {
    "name": "ipython",
    "version": 3
   },
   "file_extension": ".py",
   "mimetype": "text/x-python",
   "name": "python",
   "nbconvert_exporter": "python",
   "pygments_lexer": "ipython3",
   "version": "3.7.3"
  }
 },
 "nbformat": 4,
 "nbformat_minor": 2
}
